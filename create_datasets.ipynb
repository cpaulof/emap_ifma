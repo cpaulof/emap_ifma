{
 "cells": [
  {
   "cell_type": "code",
   "execution_count": 26,
   "id": "d199bcb0",
   "metadata": {},
   "outputs": [],
   "source": [
    "import os\n",
    "import time\n",
    "from pathlib  import Path\n",
    "\n",
    "import cv2\n",
    "import numpy as np"
   ]
  },
  {
   "cell_type": "code",
   "execution_count": 10,
   "id": "438206b5",
   "metadata": {},
   "outputs": [],
   "source": [
    "VIDEOS_DIR = './videos'\n",
    "TRAINING_DIR = './train_dataset'\n",
    "TEST_DIR = './test_dataset'\n",
    "CLASS_NAMES = ['0', '25', '50', '75', '100']"
   ]
  },
  {
   "cell_type": "code",
   "execution_count": 40,
   "id": "161ef2d2",
   "metadata": {},
   "outputs": [],
   "source": [
    "def save_video_into_images(filepath, dest, skip_frames=5):\n",
    "    video = cv2.VideoCapture(filepath)\n",
    "    x = 0\n",
    "    while video.isOpened():\n",
    "        ret, frame = video.read()\n",
    "        if not ret:\n",
    "            break\n",
    "            \n",
    "        x+=1\n",
    "        if x != skip_frames:\n",
    "            continue\n",
    "        x = 0\n",
    "        \n",
    "        if np.random.uniform() < 0.5:\n",
    "            frame = cv2.cvtColor(frame, cv2.COLOR_RGB2BGR)\n",
    "            \n",
    "        img_filename = str(time.time()).replace('.', '')[3:-3]+'.jpg'\n",
    "        img_path = os.path.join(dest, img_filename)\n",
    "        cv2.imwrite(img_path, frame)\n",
    "        \n",
    "    video.release()\n",
    "                     \n",
    "def create_dataset():\n",
    "    video_formats = ['mp4']\n",
    "    for video_filename in os.listdir(VIDEOS_DIR):\n",
    "        file_path = os.path.join(VIDEOS_DIR, video_filename)\n",
    "        if os.path.isdir(file_path):\n",
    "            continue\n",
    "        if not video_filename.split('.')[-1] in video_formats:\n",
    "            continue\n",
    "        \n",
    "        dir_name = TRAINING_DIR\n",
    "        if video_filename.startswith('test_'):\n",
    "            dir_name = TEST_DIR\n",
    "            video_filename = video_filename.replace('test_', '')\n",
    "            \n",
    "        class_name = video_filename.split('.')[0].split('_')[0]\n",
    "        assert class_name in CLASS_NAMES, f'{class_name} não é uma classe válida'\n",
    "        \n",
    "        dataset_final_path = os.path.join(dir_name, class_name)\n",
    "        if not os.path.exists(dataset_final_path):\n",
    "            path = Path(dataset_final_path)\n",
    "            path.mkdir(parents=True, exist_ok=True)\n",
    "        print('Saving {} to folder {}'.format(video_filename, dataset_final_path))\n",
    "        save_video_into_images(file_path, dataset_final_path)\n",
    "        print('completed!\\n')\n",
    "        \n"
   ]
  },
  {
   "cell_type": "code",
   "execution_count": 41,
   "id": "3c04a195",
   "metadata": {},
   "outputs": [
    {
     "name": "stdout",
     "output_type": "stream",
     "text": [
      "Saving 75.mp4 to folder ./test_dataset\\75\n",
      "completed!\n",
      "\n"
     ]
    }
   ],
   "source": [
    "create_dataset()"
   ]
  },
  {
   "cell_type": "code",
   "execution_count": null,
   "id": "da1e8f57",
   "metadata": {},
   "outputs": [],
   "source": []
  }
 ],
 "metadata": {
  "kernelspec": {
   "display_name": "Python 3 (ipykernel)",
   "language": "python",
   "name": "python3"
  },
  "language_info": {
   "codemirror_mode": {
    "name": "ipython",
    "version": 3
   },
   "file_extension": ".py",
   "mimetype": "text/x-python",
   "name": "python",
   "nbconvert_exporter": "python",
   "pygments_lexer": "ipython3",
   "version": "3.9.13"
  }
 },
 "nbformat": 4,
 "nbformat_minor": 5
}
