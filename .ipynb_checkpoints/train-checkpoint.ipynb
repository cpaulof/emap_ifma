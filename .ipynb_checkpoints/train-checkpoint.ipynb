{
 "cells": [
  {
   "cell_type": "code",
   "execution_count": 3,
   "id": "07a67687",
   "metadata": {},
   "outputs": [],
   "source": [
    "import tensorflow as tf\n",
    "import numpy as np\n"
   ]
  },
  {
   "cell_type": "code",
   "execution_count": 8,
   "id": "c56d6d4c",
   "metadata": {},
   "outputs": [
    {
     "name": "stdout",
     "output_type": "stream",
     "text": [
      "Found 452 files belonging to 5 classes.\n"
     ]
    }
   ],
   "source": [
    "CLASS_NAMES = ['0', '25', '50', '75', '100']\n",
    "\n",
    "TRAIN_DIR = './train_dataset'\n",
    "TEST_DIR = './test_dataset'\n",
    "\n",
    "train_dataset = tf.keras.preprocessing.image_dataset_from_directory(TRAIN_DIR, class_names=CLASS_NAMES)\n",
    "test_dataset = tf.keras.preprocessing.image_dataset_from_directory(TEST_DIR, class_names=CLASS_NAMES)"
   ]
  },
  {
   "cell_type": "code",
   "execution_count": 11,
   "id": "6a096ad9",
   "metadata": {},
   "outputs": [],
   "source": [
    "IMAGE_SIZE = 320"
   ]
  },
  {
   "cell_type": "code",
   "execution_count": 12,
   "id": "a0ad6c1c",
   "metadata": {},
   "outputs": [],
   "source": [
    "normalization = tf.keras.Sequential([\n",
    "    tf.keras.layers.Resizing(IMAGE_SIZE, IMAGE_SIZE),\n",
    "    tf.keras.layers.Normalization(mean=127.5, variance=127.5)\n",
    "])\n",
    "\n",
    "augmentation = tf.keras.Sequential([\n",
    "    tf.keras.layers.Resizing(460, 460),\n",
    "    tf.keras.layers.RandomCrop(400, 400),\n",
    "    tf.keras.layers.RandomContrast(0.35),\n",
    "    tf.keras.layers.RandomFlip(mode='horizontal'),\n",
    "    normalization\n",
    "])\n"
   ]
  },
  {
   "cell_type": "code",
   "execution_count": 24,
   "id": "876f6026",
   "metadata": {},
   "outputs": [
    {
     "data": {
      "text/plain": [
       "<MapDataset element_spec=(TensorSpec(shape=(None, 320, 320, 3), dtype=tf.float32, name=None), TensorSpec(shape=(None,), dtype=tf.int32, name=None))>"
      ]
     },
     "execution_count": 24,
     "metadata": {},
     "output_type": "execute_result"
    }
   ],
   "source": [
    "map_train = lambda x,y: (augmentation(x), y)\n",
    "map_test = lambda x,y: (normalization(x), y)\n",
    "\n",
    "train_dataset = train_dataset.map(map_train)\n",
    "test_dataset = test_dataset.map(map_test)\n"
   ]
  },
  {
   "cell_type": "code",
   "execution_count": 45,
   "id": "063936fc",
   "metadata": {},
   "outputs": [],
   "source": [
    "def build_model():\n",
    "    input_shape = (IMAGE_SIZE, IMAGE_SIZE, 3)\n",
    "    base = tf.keras.applications.MobileNetV2(input_shape=input_shape, include_top=False)\n",
    "    \n",
    "    \n",
    "    net = tf.keras.layers.Conv2D(128, 3, 2, 'same')(base.output)\n",
    "    net = tf.keras.layers.LeakyReLU(0.15)(net)\n",
    "    net = tf.keras.layers.LayerNormalization()(net)\n",
    "    \n",
    "    net = tf.keras.layers.Conv2D(128, 3, 2, 'same')(net)\n",
    "    net = tf.keras.layers.LeakyReLU(0.15)(net)\n",
    "    net = tf.keras.layers.LayerNormalization()(net)\n",
    "    \n",
    "    net = tf.keras.layers.Conv2D(64, 3, 2, 'same')(net)\n",
    "    net = tf.keras.layers.LeakyReLU(0.15)(net)\n",
    "    net = tf.keras.layers.LayerNormalization()(net)\n",
    "    \n",
    "    net = tf.keras.layers.Conv2D(32, 3, 2, 'same')(net)\n",
    "    net = tf.keras.layers.LeakyReLU(0.15)(net)\n",
    "    net = tf.keras.layers.LayerNormalization()(net)\n",
    "    \n",
    "    net = tf.keras.layers.Conv2D(len(CLASS_NAMES), 3, 1, 'same')(net)\n",
    "    net = tf.keras.layers.Reshape((len(CLASS_NAMES),))(net)\n",
    "    outputs = tf.keras.layers.Softmax()(net)\n",
    "    \n",
    "    return tf.keras.Model(base.inputs, outputs)\n",
    "    "
   ]
  },
  {
   "cell_type": "code",
   "execution_count": 43,
   "id": "f11a0492",
   "metadata": {},
   "outputs": [
    {
     "name": "stdout",
     "output_type": "stream",
     "text": [
      "WARNING:tensorflow:`input_shape` is undefined or non-square, or `rows` is not in [96, 128, 160, 192, 224]. Weights for input shape (224, 224) will be loaded as the default.\n",
      "(None, 5, 5, 128)\n",
      "(None, 3, 3, 128)\n",
      "(None, 2, 2, 64)\n",
      "(None, 1, 1, 32)\n"
     ]
    }
   ],
   "source": [
    "model = build_model()"
   ]
  },
  {
   "cell_type": "code",
   "execution_count": null,
   "id": "8b344327",
   "metadata": {},
   "outputs": [],
   "source": [
    "model.summary()"
   ]
  },
  {
   "cell_type": "code",
   "execution_count": 46,
   "id": "f7a16faf",
   "metadata": {},
   "outputs": [],
   "source": [
    "loss_func = tf.keras.losses.SparseCategoricalCrossentropy()\n",
    "metric = tf.keras.metrics.SparseCategoricalAccuracy(name='acc')"
   ]
  },
  {
   "cell_type": "code",
   "execution_count": null,
   "id": "95d96a2c",
   "metadata": {},
   "outputs": [],
   "source": [
    "#history = model.fit(x=train_dataset, epochs=30, validation_split=0.2, loss=loss_func, metrics=[metric])\n",
    "\n",
    "history = model.fit(x=train_dataset, epochs=30, validation_data=test_dataset, loss=loss_func, metrics=[metric])"
   ]
  },
  {
   "cell_type": "code",
   "execution_count": null,
   "id": "ea9a3d68",
   "metadata": {},
   "outputs": [],
   "source": [
    "plt.plot(history.history['accuracy'])\n",
    "plt.plot(history.history['val_accuracy'])\n",
    "plt.title('model accuracy')\n",
    "plt.ylabel('accuracy')\n",
    "plt.xlabel('epoch')\n",
    "plt.legend(['train', 'test'], loc='upper left')\n",
    "plt.show()"
   ]
  },
  {
   "cell_type": "code",
   "execution_count": null,
   "id": "d6721018",
   "metadata": {},
   "outputs": [],
   "source": [
    "plt.plot(history.history['loss'])\n",
    "plt.plot(history.history['val_loss'])\n",
    "plt.title('model loss')\n",
    "plt.ylabel('loss')\n",
    "plt.xlabel('epoch')\n",
    "plt.legend(['train', 'test'], loc='upper left')\n",
    "plt.show()"
   ]
  }
 ],
 "metadata": {
  "kernelspec": {
   "display_name": "Python 3 (ipykernel)",
   "language": "python",
   "name": "python3"
  },
  "language_info": {
   "codemirror_mode": {
    "name": "ipython",
    "version": 3
   },
   "file_extension": ".py",
   "mimetype": "text/x-python",
   "name": "python",
   "nbconvert_exporter": "python",
   "pygments_lexer": "ipython3",
   "version": "3.9.13"
  }
 },
 "nbformat": 4,
 "nbformat_minor": 5
}
